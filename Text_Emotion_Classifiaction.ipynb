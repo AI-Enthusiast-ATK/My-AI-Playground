{
  "nbformat": 4,
  "nbformat_minor": 0,
  "metadata": {
    "colab": {
      "provenance": [],
      "gpuType": "T4",
      "authorship_tag": "ABX9TyOVZ4/eFz8iFZzC8dhF2y8j",
      "include_colab_link": true
    },
    "kernelspec": {
      "name": "python3",
      "display_name": "Python 3"
    },
    "language_info": {
      "name": "python"
    },
    "accelerator": "GPU"
  },
  "cells": [
    {
      "cell_type": "markdown",
      "metadata": {
        "id": "view-in-github",
        "colab_type": "text"
      },
      "source": [
        "<a href=\"https://colab.research.google.com/github/AI-Enthusiast-ATK/My-AI-Playground/blob/main/Text_Emotion_Classifiaction.ipynb\" target=\"_parent\"><img src=\"https://colab.research.google.com/assets/colab-badge.svg\" alt=\"Open In Colab\"/></a>"
      ]
    },
    {
      "cell_type": "code",
      "source": [
        "import pandas as pd\n",
        "import string\n",
        "import spacy\n",
        "import nltk\n",
        "from nltk.corpus import stopwords\n",
        "from sklearn.feature_extraction.text import TfidfVectorizer\n",
        "from sklearn.linear_model import LogisticRegression\n",
        "from sklearn.metrics import accuracy_score, classification_report\n",
        "\n",
        "# Setup\n",
        "nltk.download('stopwords')\n",
        "stop_words = set(stopwords.words('english'))\n",
        "nlp = spacy.load('en_core_web_sm')\n",
        "\n",
        "# Load data\n",
        "train_data = pd.read_csv('/content/training.csv')\n",
        "test_data = pd.read_csv('/content/test.csv')\n",
        "validation_data = pd.read_csv('/content/validation.csv')\n",
        "\n",
        "# Preprocessing\n",
        "def preprocess(text):\n",
        "    doc = nlp(text)\n",
        "    return ' '.join([token.text.lower() for token in doc if token.text.lower() not in stop_words and token.text not in string.punctuation])\n",
        "\n",
        "train_data['cleaned_text'] = train_data['text'].apply(preprocess)\n",
        "validation_data['cleaned_text'] = validation_data['text'].apply(preprocess)\n",
        "test_data['cleaned_text'] = test_data['text'].apply(preprocess)\n",
        "\n",
        "# TF-IDF Vectorization\n",
        "vectorizer = TfidfVectorizer(max_features=10000)\n",
        "X_train = vectorizer.fit_transform(train_data['cleaned_text'])\n",
        "X_val = vectorizer.transform(validation_data['cleaned_text'])\n",
        "X_test = vectorizer.transform(test_data['cleaned_text'])\n",
        "\n",
        "# Labels\n",
        "y_train = train_data['label']\n",
        "y_val = validation_data['label']\n",
        "y_test = test_data['label']\n",
        "\n",
        "# Logistic Regression Model\n",
        "model = LogisticRegression(max_iter=1000)\n",
        "model.fit(X_train, y_train)\n",
        "\n",
        "# Evaluation\n",
        "val_preds = model.predict(X_val)\n",
        "test_preds = model.predict(X_test)\n",
        "\n",
        "print(\"Validation Accuracy:\", accuracy_score(y_val, val_preds))\n",
        "print(\"Test Accuracy:\", accuracy_score(y_test, test_preds))\n",
        "print(\"\\nClassification Report:\\n\", classification_report(y_test, test_preds))\n",
        "\n",
        "\n"
      ],
      "metadata": {
        "colab": {
          "base_uri": "https://localhost:8080/"
        },
        "id": "FbmWLM_lfCGY",
        "outputId": "5c9237d9-0075-45e0-f78a-60a59f9519f5"
      },
      "execution_count": null,
      "outputs": [
        {
          "output_type": "stream",
          "name": "stderr",
          "text": [
            "[nltk_data] Downloading package stopwords to /root/nltk_data...\n",
            "[nltk_data]   Package stopwords is already up-to-date!\n"
          ]
        },
        {
          "output_type": "stream",
          "name": "stdout",
          "text": [
            "Validation Accuracy: 0.8775\n",
            "Test Accuracy: 0.866\n",
            "\n",
            "Classification Report:\n",
            "               precision    recall  f1-score   support\n",
            "\n",
            "           0       0.89      0.92      0.91       581\n",
            "           1       0.85      0.95      0.90       695\n",
            "           2       0.81      0.60      0.69       159\n",
            "           3       0.88      0.83      0.86       275\n",
            "           4       0.87      0.80      0.84       224\n",
            "           5       0.87      0.50      0.63        66\n",
            "\n",
            "    accuracy                           0.87      2000\n",
            "   macro avg       0.86      0.77      0.80      2000\n",
            "weighted avg       0.87      0.87      0.86      2000\n",
            "\n"
          ]
        }
      ]
    },
    {
      "cell_type": "code",
      "source": [
        "def predict(text):\n",
        "    cleaned = preprocess(text)\n",
        "    vectorized = vectorizer.transform([cleaned])\n",
        "    label = model.predict(vectorized)[0]\n",
        "    return label"
      ],
      "metadata": {
        "id": "1FTIDA1SgZUv"
      },
      "execution_count": null,
      "outputs": []
    },
    {
      "cell_type": "code",
      "source": [
        "print(\"Prediction:\", predict(\" i am feeling grouchy .\"))\n"
      ],
      "metadata": {
        "colab": {
          "base_uri": "https://localhost:8080/"
        },
        "id": "9NMol4vugd63",
        "outputId": "8808383c-1c5d-441c-c41a-d1fab4361daa"
      },
      "execution_count": null,
      "outputs": [
        {
          "output_type": "stream",
          "name": "stdout",
          "text": [
            "Prediction: 3\n"
          ]
        }
      ]
    }
  ]
}