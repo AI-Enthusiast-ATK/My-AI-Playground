{
  "nbformat": 4,
  "nbformat_minor": 0,
  "metadata": {
    "colab": {
      "provenance": [],
      "gpuType": "V28",
      "authorship_tag": "ABX9TyOS146qH8SD+MWqrs3AgQ+C",
      "include_colab_link": true
    },
    "kernelspec": {
      "name": "python3",
      "display_name": "Python 3"
    },
    "language_info": {
      "name": "python"
    },
    "accelerator": "TPU"
  },
  "cells": [
    {
      "cell_type": "markdown",
      "metadata": {
        "id": "view-in-github",
        "colab_type": "text"
      },
      "source": [
        "<a href=\"https://colab.research.google.com/github/AI-Enthusiast-ATK/My-AI-Playground/blob/main/next_word_prediction.ipynb\" target=\"_parent\"><img src=\"https://colab.research.google.com/assets/colab-badge.svg\" alt=\"Open In Colab\"/></a>"
      ]
    },
    {
      "cell_type": "code",
      "source": [
        "import spacy\n",
        "import pandas as pd\n",
        "from tensorflow.keras.preprocessing.text import Tokenizer\n",
        "from tensorflow.keras.preprocessing.sequence import pad_sequences\n",
        "from tensorflow.keras.models import Sequential\n",
        "from tensorflow.keras.layers import Embedding, LSTM, Dense\n",
        "import numpy as np\n",
        "from string import punctuation\n",
        "\n",
        "# Load data\n",
        "def read_lines(filepath):\n",
        "    with open(filepath, 'r', encoding='utf-8') as f:\n",
        "        return pd.DataFrame({'text': f.read().splitlines()})\n",
        "\n",
        "test_data = read_lines('/content/wiki.test.tokens')\n",
        "train_data = read_lines('/content/wiki.train.tokens')\n",
        "valid_data = read_lines('/content/wiki.valid.tokens')\n",
        "\n",
        "# Clean text\n",
        "nlp = spacy.load('en_core_web_sm')\n",
        "def clean_text(text):\n",
        "    analyzed_text = nlp(text.lower())\n",
        "    return ' '.join([token.text for token in analyzed_text if token.text not in punctuation])\n",
        "\n",
        "train_data[\"cleaned\"] = train_data['text'].apply(clean_text)\n",
        "test_data[\"cleaned\"] = test_data['text'].apply(clean_text)\n",
        "valid_data[\"cleaned\"] = valid_data['text'].apply(clean_text)\n",
        "\n",
        "# Prepare corpus\n",
        "corpus = train_data['cleaned'].tolist()\n",
        "\n",
        "# Tokenizer with limited vocab size\n",
        "max_words = 10000\n",
        "tokenizer = Tokenizer(num_words=max_words, oov_token=\"<OOV>\")\n",
        "tokenizer.fit_on_texts(corpus)\n",
        "word_index = tokenizer.word_index\n",
        "vocab_size = min(max_words, len(word_index)) + 1\n",
        "\n",
        "# Create sequences\n",
        "sequences = []\n",
        "for line in corpus[:10000]:  # Limit lines to avoid memory issues\n",
        "    token_list = tokenizer.texts_to_sequences([line])[0]\n",
        "    for i in range(2, len(token_list)+1):\n",
        "        seq = token_list[:i]\n",
        "        sequences.append(seq)\n",
        "\n",
        "# Pad sequences\n",
        "max_len = max(len(seq) for seq in sequences)\n",
        "sequences = pad_sequences(sequences, maxlen=max_len, padding='pre')\n",
        "\n",
        "# Split into X and y\n",
        "X = sequences[:, :-1]\n",
        "y = sequences[:, -1]\n",
        "\n",
        "# No need to one-hot encode y\n",
        "# Use sparse_categorical_crossentropy instead\n",
        "model = Sequential([\n",
        "    Embedding(vocab_size, 50, input_length=max_len-1),\n",
        "    LSTM(64),\n",
        "    Dense(vocab_size, activation='softmax')\n",
        "])\n",
        "\n",
        "model.compile(loss='sparse_categorical_crossentropy', optimizer='adam', metrics=['accuracy'])\n",
        "\n",
        "# Train\n",
        "model.fit(X, y, epochs=5, batch_size=64)\n",
        "\n",
        "# Summary\n",
        "model.summary()\n"
      ],
      "metadata": {
        "id": "4n6dpUMeP9XK"
      },
      "execution_count": null,
      "outputs": []
    }
  ]
}